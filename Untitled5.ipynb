{
 "cells": [
  {
   "cell_type": "markdown",
   "id": "45d351a5",
   "metadata": {},
   "source": [
    "Write an expression of calculations using \"/*-+\""
   ]
  },
  {
   "cell_type": "code",
   "execution_count": 1,
   "id": "2f8772fa",
   "metadata": {},
   "outputs": [
    {
     "data": {
      "text/plain": [
       "79"
      ]
     },
     "execution_count": 1,
     "metadata": {},
     "output_type": "execute_result"
    }
   ],
   "source": [
    "34+45\n"
   ]
  },
  {
   "cell_type": "code",
   "execution_count": 2,
   "id": "8092af30",
   "metadata": {},
   "outputs": [
    {
     "data": {
      "text/plain": [
       "23"
      ]
     },
     "execution_count": 2,
     "metadata": {},
     "output_type": "execute_result"
    }
   ],
   "source": [
    "56-33"
   ]
  },
  {
   "cell_type": "code",
   "execution_count": 3,
   "id": "6b0874c6",
   "metadata": {},
   "outputs": [
    {
     "data": {
      "text/plain": [
       "0.13333333333333333"
      ]
     },
     "execution_count": 3,
     "metadata": {},
     "output_type": "execute_result"
    }
   ],
   "source": [
    "6/45"
   ]
  },
  {
   "cell_type": "code",
   "execution_count": 5,
   "id": "e584ce7d",
   "metadata": {},
   "outputs": [
    {
     "data": {
      "text/plain": [
       "7776"
      ]
     },
     "execution_count": 5,
     "metadata": {},
     "output_type": "execute_result"
    }
   ],
   "source": [
    "6**5\n"
   ]
  },
  {
   "cell_type": "code",
   "execution_count": 6,
   "id": "fa529ebb",
   "metadata": {},
   "outputs": [
    {
     "data": {
      "text/plain": [
       "30000.0"
      ]
     },
     "execution_count": 6,
     "metadata": {},
     "output_type": "execute_result"
    }
   ],
   "source": [
    "3e4"
   ]
  },
  {
   "cell_type": "code",
   "execution_count": 12,
   "id": "c22f5d99",
   "metadata": {},
   "outputs": [
    {
     "name": "stdout",
     "output_type": "stream",
     "text": [
      "30\n",
      "-10\n",
      "200\n",
      "0.5\n"
     ]
    }
   ],
   "source": [
    "a=10\n",
    "b=20\n",
    "addition=a+b\n",
    "sub=a-b\n",
    "multi=a*b\n",
    "floor=a/b\n",
    "print(addition)\n",
    "print(sub)\n",
    "print(multi)\n",
    "print(floor)\n",
    "\n",
    "\n",
    "\n"
   ]
  },
  {
   "cell_type": "code",
   "execution_count": 10,
   "id": "e19c5c84",
   "metadata": {},
   "outputs": [
    {
     "name": "stdout",
     "output_type": "stream",
     "text": [
      "10.0\n"
     ]
    }
   ],
   "source": [
    "my_income=100\n",
    "text_rate =0.1\n",
    "my_final_text=my_income*text_rate\n",
    "print(my_final_text)"
   ]
  },
  {
   "cell_type": "code",
   "execution_count": 13,
   "id": "fb96d8e3",
   "metadata": {},
   "outputs": [
    {
     "name": "stdout",
     "output_type": "stream",
     "text": [
      "42\n"
     ]
    }
   ],
   "source": [
    "integer_var=42\n",
    "print(integer_var)"
   ]
  },
  {
   "cell_type": "code",
   "execution_count": null,
   "id": "bbac1ede",
   "metadata": {},
   "outputs": [],
   "source": []
  }
 ],
 "metadata": {
  "kernelspec": {
   "display_name": "Python 3 (ipykernel)",
   "language": "python",
   "name": "python3"
  },
  "language_info": {
   "codemirror_mode": {
    "name": "ipython",
    "version": 3
   },
   "file_extension": ".py",
   "mimetype": "text/x-python",
   "name": "python",
   "nbconvert_exporter": "python",
   "pygments_lexer": "ipython3",
   "version": "3.10.9"
  }
 },
 "nbformat": 4,
 "nbformat_minor": 5
}
